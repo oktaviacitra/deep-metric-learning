{
  "nbformat": 4,
  "nbformat_minor": 0,
  "metadata": {
    "colab": {
      "name": "CIFAR10.ipynb",
      "provenance": [],
      "collapsed_sections": [],
      "authorship_tag": "ABX9TyP9QKBv3ewQx9G4H2UGXJun",
      "include_colab_link": true
    },
    "kernelspec": {
      "name": "python3",
      "display_name": "Python 3"
    },
    "language_info": {
      "name": "python"
    }
  },
  "cells": [
    {
      "cell_type": "markdown",
      "metadata": {
        "id": "view-in-github",
        "colab_type": "text"
      },
      "source": [
        "<a href=\"https://colab.research.google.com/github/oktaviacitra/deep-metric-learning/blob/main/CIFAR10.ipynb\" target=\"_parent\"><img src=\"https://colab.research.google.com/assets/colab-badge.svg\" alt=\"Open In Colab\"/></a>"
      ]
    },
    {
      "cell_type": "code",
      "source": [
        "from google.colab import drive\n",
        "\n",
        "origin_path = \"/content/drive\"\n",
        "drive.mount(origin_path)\n",
        "folder_path = origin_path + \"/MyDrive/Learning Journey/CIFAR10\""
      ],
      "metadata": {
        "colab": {
          "base_uri": "https://localhost:8080/"
        },
        "id": "Gewuqqh-dpBU",
        "outputId": "1e866748-9839-472f-b0f8-beecd8f62338"
      },
      "execution_count": 1,
      "outputs": [
        {
          "output_type": "stream",
          "name": "stdout",
          "text": [
            "Mounted at /content/drive\n"
          ]
        }
      ]
    },
    {
      "cell_type": "code",
      "execution_count": 2,
      "metadata": {
        "id": "mutTzO5QaS-8"
      },
      "outputs": [],
      "source": [
        "from tensorflow.keras.datasets.cifar10 import load_data\n",
        "\n",
        "(x_train, y_train), (x_test, y_test) = load_data()"
      ]
    },
    {
      "cell_type": "code",
      "source": [
        "from tensorflow.image import per_image_standardization\n",
        "from tensorflow.keras.utils import to_categorical\n",
        "\n",
        "x_train, x_test = per_image_standardization(x_train), per_image_standardization(x_test)\n",
        "y_train, y_test = to_categorical(y_train), to_categorical(y_test)"
      ],
      "metadata": {
        "id": "nc81wDCohFfC"
      },
      "execution_count": null,
      "outputs": []
    },
    {
      "cell_type": "code",
      "source": [
        "x = x_train.copy()\n",
        "y = y_train.copy()"
      ],
      "metadata": {
        "id": "FPbnadLAhMC3"
      },
      "execution_count": null,
      "outputs": []
    },
    {
      "cell_type": "code",
      "source": [
        "from sklearn.model_selection import KFold\n",
        "import numpy as np\n",
        "\n",
        "kf = KFold(n_splits = 5)\n",
        "\n",
        "VAL_ACC = []\n",
        "VAL_LOSS = []\n",
        "fold_count = 1\n",
        "\n",
        "for train_index, val_index in kf.split(x,y):\n",
        "  print(train_index.shape)"
      ],
      "metadata": {
        "colab": {
          "base_uri": "https://localhost:8080/"
        },
        "id": "g92PMSh2cRx1",
        "outputId": "33aa8931-78ab-4fcd-f65b-ea59a0d4ba56"
      },
      "execution_count": 11,
      "outputs": [
        {
          "output_type": "stream",
          "name": "stdout",
          "text": [
            "(40000,)\n",
            "(40000,)\n",
            "(40000,)\n",
            "(40000,)\n",
            "(40000,)\n"
          ]
        }
      ]
    },
    {
      "cell_type": "markdown",
      "source": [
        "https://medium.com/the-owl/k-fold-cross-validation-in-keras-3ec4a3a00538"
      ],
      "metadata": {
        "id": "YQ0sWvPKeY02"
      }
    }
  ]
}